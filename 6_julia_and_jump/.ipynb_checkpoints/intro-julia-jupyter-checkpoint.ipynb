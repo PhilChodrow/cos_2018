{
 "cells": [
  {
   "cell_type": "markdown",
   "metadata": {
    "slideshow": {
     "slide_type": "slide"
    }
   },
   "source": [
    "# Introduction to Julia and IJulia/Jupyter\n",
    "<table>\n",
    "<tr>\n",
    "<td> <a href=\"http://julialang.org\"><img src=\"figures/julia.png\" alt=\"Julia\" style=\"width: 150px;\"/></a></td>\n",
    "<td> <a href=\"http://jupyter.org\"><img src=\"figures/jupyter.png\" alt=\"Jupyter\" style=\"width: 150px;\"/></a></td>\n",
    "<td> <a href=\"https://github.com/JuliaLang/IJulia.jl\"><img src=\"figures/ijulia.png\" alt=\"IJulia\" style=\"width: 150px;\"/></a></td>\n",
    "</tr></table>"
   ]
  },
  {
   "cell_type": "markdown",
   "metadata": {
    "slideshow": {
     "slide_type": "skip"
    }
   },
   "source": [
    "This notebook is an introduction to the **Julia** language and its commonly used IJulia/Jupyter notebook interface. It is based on material developed by Miles Lubin and Sebastien Martin of the MIT Operations Research Center, as well as online open-source material (http://ucidatascienceinitiative.github.io/IntroToJulia/Html/WhyJulia).\n",
    "\n",
    "This is a broad overview of Julia and Jupyter, with many links to more specific, thorough material. We hope readers will use this resource as a reference."
   ]
  },
  {
   "cell_type": "markdown",
   "metadata": {
    "slideshow": {
     "slide_type": "slide"
    }
   },
   "source": [
    "## Why Julia?\n",
    "\n",
    "Quoting the [Julia website](http://julialang.org):\n",
    "> Julia is a **high-level**, **high-performance** **dynamic** programming language for **technical computing**, with syntax that is familiar to users of other technical computing environments. It provides a sophisticated compiler, distributed parallel execution, numerical accuracy, and an extensive mathematical function library."
   ]
  },
  {
   "cell_type": "markdown",
   "metadata": {
    "slideshow": {
     "slide_type": "slide"
    }
   },
   "source": [
    "A **high-level** language:\n",
    "\n",
    "- Easy to use and learn, with a similar syntax to Python/Matlab. \n",
    "- It is possible to do complicated computations quickly."
   ]
  },
  {
   "cell_type": "markdown",
   "metadata": {
    "slideshow": {
     "slide_type": "subslide"
    }
   },
   "source": [
    "For example, Solving $Ax = b$ with \n",
    "$A = \\begin{pmatrix}\n",
    " 1 & 2 & 3\\\\ \n",
    " 2 & 1 & 2\\\\ \n",
    " 3 & 2 & 1\n",
    "\\end{pmatrix}$\n",
    "and $b = \\begin{pmatrix}\n",
    " 1 \\\\ \n",
    " 1 \\\\ \n",
    " 1 \n",
    "\\end{pmatrix}$\n",
    "is as simple as:"
   ]
  },
  {
   "cell_type": "code",
   "execution_count": 1,
   "metadata": {
    "slideshow": {
     "slide_type": "subslide"
    }
   },
   "outputs": [
    {
     "data": {
      "text/plain": [
       "3-element Array{Float64,1}:\n",
       "  0.25\n",
       " -0.0 \n",
       "  0.25"
      ]
     },
     "execution_count": 1,
     "metadata": {},
     "output_type": "execute_result"
    }
   ],
   "source": [
    "A = [1 2 3\n",
    "     2 1 2\n",
    "     3 2 1]\n",
    "\n",
    "b = [1,1,1]\n",
    "A\\b"
   ]
  },
  {
   "cell_type": "markdown",
   "metadata": {
    "slideshow": {
     "slide_type": "slide"
    }
   },
   "source": [
    "A **dynamic** language:\n",
    "\n",
    "- Julia is, like Python, Matlab or R, a dynamic language: you can interact with the language without the need to compile your code. Static or compiled languages, like C or Fortran, are more complicated to use but generally faster, and thus used when there is a need for time-efficient computations. \n",
    "\n",
    "- Two-language approach: use high level languages for research and scripting, then translate the final result into a static language for performance."
   ]
  },
  {
   "cell_type": "markdown",
   "metadata": {
    "slideshow": {
     "slide_type": "slide"
    }
   },
   "source": [
    "A **high-performance** language:\n",
    "- Julia is fast. Thanks to _multiple dispatch_, a strong _type system_, and _just-in-time compilation_, it can reach performance comparable to C and Fortran.\n",
    "<a href=\"http://nbviewer.jupyter.org/url/julialang.org/benchmarks/benchmarks.ipynb\"><img src=\"figures/Julia-benchmarks.png\" alt=\"Julia\" style=\"width: 1500px;\"/></a>"
   ]
  },
  {
   "cell_type": "markdown",
   "metadata": {
    "slideshow": {
     "slide_type": "slide"
    }
   },
   "source": [
    "A language for **technical computing**:\n",
    "- Julia has a lot of built in functions for scientific computing.\n",
    "- A growing number of packages, mostly written in Julia itself.\n",
    "- More and more users in Finance, Biology, Optimization.\n",
    "- Can run C and Python code seemlessly (using Scikit for Machine Learning...)"
   ]
  },
  {
   "cell_type": "markdown",
   "metadata": {
    "collapsed": true,
    "slideshow": {
     "slide_type": "slide"
    }
   },
   "source": [
    "## Jupyter/IJulia notebook basics\n",
    "For this session, we will use Julia through a Jupyter notebook, a useful tool (originally for Python) made available to Julia by the IJulia project."
   ]
  },
  {
   "cell_type": "markdown",
   "metadata": {
    "slideshow": {
     "slide_type": "slide"
    }
   },
   "source": [
    "### What is a Jupyter Notebook?\n",
    "- Jupyter notebooks are **documents** (like a Word document) that can contain and run code.\n",
    "- They were originally created for Python as part of the IPython project, and adapted for Julia by the **IJulia** project.\n",
    "- They are very useful to **prototype**, draw **plots**, or even for teaching material like this one.\n",
    "- The document relies only on a modern browser for rendering, and can easily be **shared**."
   ]
  },
  {
   "cell_type": "markdown",
   "metadata": {
    "slideshow": {
     "slide_type": "slide"
    }
   },
   "source": [
    "### Installing IJulia and loading this notebook\n",
    "Once Julia is installed, start julia and just run the following command to install the `IJulia` package (you did this on the pre-assignment).\n",
    "```jl\n",
    "Pkg.install(\"IJulia\")\n",
    "```\n",
    "This should work on its own. If there is any issue, check out the [IJulia website](https://github.com/JuliaLang/IJulia.jl).\n",
    "\n",
    "Once IJulia is installed, go to the notebook file (_.ipynb_) directory, start julia and run:\n",
    "```jl\n",
    "using IJulia\n",
    "notebook()\n",
    "```\n",
    "A webpage should open automatically, just click on the notebook to load it."
   ]
  },
  {
   "cell_type": "markdown",
   "metadata": {
    "slideshow": {
     "slide_type": "slide"
    }
   },
   "source": [
    "### Navigating the notebook\n",
    "\n",
    "- Click `Help -> User Interface Tour` for a guided tour of the interface.\n",
    "- Each notebook is composed of **cells**, that either contain code or text (`Markdown`).\n",
    "- You can edit the content of a cell by double-clicking on it (_Edit Mode_)."
   ]
  },
  {
   "cell_type": "markdown",
   "metadata": {
    "slideshow": {
     "slide_type": "slide"
    }
   },
   "source": [
    "When you are not editing a cell, you are in _Command mode_ and can edit the structure of the notebook (cells, name, options...)"
   ]
  },
  {
   "cell_type": "markdown",
   "metadata": {
    "slideshow": {
     "slide_type": "subslide"
    }
   },
   "source": [
    "- Create a cell by:\n",
    "    - Clicking `Insert -> Insert Cell`\n",
    "    - Pressing `a` or `b` in Command Mode\n",
    "    - Pressing `Alt+Enter` in Edit Mode"
   ]
  },
  {
   "cell_type": "markdown",
   "metadata": {
    "slideshow": {
     "slide_type": "subslide"
    }
   },
   "source": [
    "- Delete a cell by:\n",
    "    - Clicking `Edit -> Delete Cell`\n",
    "    - Pressing `dd`"
   ]
  },
  {
   "cell_type": "markdown",
   "metadata": {
    "slideshow": {
     "slide_type": "subslide"
    }
   },
   "source": [
    "- Execute a cell by:\n",
    "    - Clicking `Cell -> Run`\n",
    "    - Pressing `Ctrl+Enter`"
   ]
  },
  {
   "cell_type": "markdown",
   "metadata": {
    "slideshow": {
     "slide_type": "subslide"
    }
   },
   "source": [
    "Other functions:\n",
    "- Undo last text edit with `Ctrl+z` in Edit Mode\n",
    "- Undo last cell manipulation with `z` in Command Mode\n",
    "- Save notebook with `Ctrl+s` in Edit Mode\n",
    "- Save notebook with `s` in Command Mode\n",
    "\n",
    "Though notebooks rely on your browser to work, they do not require an internet connection (except for math rendering)."
   ]
  },
  {
   "cell_type": "markdown",
   "metadata": {
    "slideshow": {
     "slide_type": "slide"
    }
   },
   "source": [
    "### Get comfortable with the notebook\n",
    "Notebooks are designed to not be fragile. If you try to close a notebook with unsaved changes, the browser will warn you.\n",
    "\n",
    "Try the following exercises:"
   ]
  },
  {
   "cell_type": "markdown",
   "metadata": {
    "slideshow": {
     "slide_type": "subslide"
    }
   },
   "source": [
    ">**\\[Exercise\\]**: Close/open\n",
    "\n",
    ">1. Save the notebook\n",
    ">2. Copy the address\n",
    ">3. Close the tab\n",
    ">4. Paste the address into a new tab (or re-open the last closed tab with `Ctrl+Shift+T` on Chrome)\n",
    "\n",
    ">_The document is still there, and the Julia kernel is still alive! Nothing is lost._"
   ]
  },
  {
   "cell_type": "markdown",
   "metadata": {
    "slideshow": {
     "slide_type": "subslide"
    }
   },
   "source": [
    ">**\\[Exercise\\]**: Zoom\n",
    "\n",
    ">Try changing the magnification of the web page (`Ctrl+, Ctrl-` on Chrome).\n",
    "\n",
    ">_Text and math scale well (so do graphics if you use an SVG or PDF backend)._"
   ]
  },
  {
   "cell_type": "markdown",
   "metadata": {
    "slideshow": {
     "slide_type": "subslide"
    }
   },
   "source": [
    ">**\\[Exercise\\]**: MathJax\n",
    ">1. Create a new cell, and select the type `Markdown` (or press `m`)\n",
    ">2. Type an opening \\$, your favorite mathematical expression, and a closing \\$.\n",
    ">3. Run the cell to render the $\\LaTeX$ expression.\n",
    ">4. Right-click the rendered expression."
   ]
  },
  {
   "cell_type": "markdown",
   "metadata": {
    "collapsed": true,
    "slideshow": {
     "slide_type": "slide"
    }
   },
   "source": [
    "## Coding in Julia\n",
    "\n",
    "This section is a brief introduction to Julia. It is not a comprehensive tutorial but more a _taste_ of the language for those who do not know it, and a showcase of cool features for those who already know Julia.\n",
    "\n",
    "Very good [tutorials](http://julialang.org/learning/) are available online and in books if you are interested in learning the language."
   ]
  },
  {
   "cell_type": "markdown",
   "metadata": {
    "slideshow": {
     "slide_type": "slide"
    }
   },
   "source": [
    "### Basic use\n",
    "Julia, as a dynamic language, can simply be used as a calculator:"
   ]
  },
  {
   "cell_type": "code",
   "execution_count": 2,
   "metadata": {
    "slideshow": {
     "slide_type": "fragment"
    }
   },
   "outputs": [
    {
     "data": {
      "text/plain": [
       "2"
      ]
     },
     "execution_count": 2,
     "metadata": {},
     "output_type": "execute_result"
    }
   ],
   "source": [
    "1+1"
   ]
  },
  {
   "cell_type": "code",
   "execution_count": 3,
   "metadata": {
    "slideshow": {
     "slide_type": "fragment"
    }
   },
   "outputs": [
    {
     "data": {
      "text/plain": [
       "-0.01136232398070678"
      ]
     },
     "execution_count": 3,
     "metadata": {},
     "output_type": "execute_result"
    }
   ],
   "source": [
    "sin(exp(2*pi)+sqrt(3))"
   ]
  },
  {
   "cell_type": "markdown",
   "metadata": {
    "slideshow": {
     "slide_type": "slide"
    }
   },
   "source": [
    "The building blocs of Julia code are variables:"
   ]
  },
  {
   "cell_type": "code",
   "execution_count": 4,
   "metadata": {
    "slideshow": {
     "slide_type": "fragment"
    }
   },
   "outputs": [
    {
     "data": {
      "text/plain": [
       "9"
      ]
     },
     "execution_count": 4,
     "metadata": {},
     "output_type": "execute_result"
    }
   ],
   "source": [
    "a = 1\n",
    "b = 2\n",
    "# This is a comment \n",
    "c = a^2 + b^3 "
   ]
  },
  {
   "cell_type": "markdown",
   "metadata": {
    "slideshow": {
     "slide_type": "slide"
    }
   },
   "source": [
    "Julia supports the common `if`, `while` and `for` structures:"
   ]
  },
  {
   "cell_type": "code",
   "execution_count": 5,
   "metadata": {
    "slideshow": {
     "slide_type": "fragment"
    }
   },
   "outputs": [
    {
     "name": "stdout",
     "output_type": "stream",
     "text": [
      "World"
     ]
    }
   ],
   "source": [
    "if c >= 10\n",
    "    print(\"Hello\")\n",
    "else\n",
    "    print(\"World\")\n",
    "end"
   ]
  },
  {
   "cell_type": "code",
   "execution_count": 6,
   "metadata": {
    "slideshow": {
     "slide_type": "subslide"
    }
   },
   "outputs": [
    {
     "name": "stdout",
     "output_type": "stream",
     "text": [
      "Why, hello!\n",
      "Why, hello!\n",
      "Why, hello!\n",
      "Why, hello!\n",
      "Why, hello!\n"
     ]
    }
   ],
   "source": [
    "i = 1\n",
    "while i <= 5\n",
    "    println(\"Why, hello!\") # Print with a new line\n",
    "    i += 1\n",
    "end"
   ]
  },
  {
   "cell_type": "code",
   "execution_count": 7,
   "metadata": {
    "slideshow": {
     "slide_type": "subslide"
    }
   },
   "outputs": [
    {
     "name": "stdout",
     "output_type": "stream",
     "text": [
      "1 banana\n",
      "2 bananas\n",
      "3 bananas\n"
     ]
    }
   ],
   "source": [
    "for i = 1:3\n",
    "    print(\"$i banana\") # '$' can be used to insert variables into text\n",
    "    if i>1\n",
    "        print(\"s\")\n",
    "    end\n",
    "    println() # Just a new line\n",
    "end"
   ]
  },
  {
   "cell_type": "markdown",
   "metadata": {
    "slideshow": {
     "slide_type": "fragment"
    }
   },
   "source": [
    "**Do not worry about writing loops**: in Julia, they are as fast as writing vectorized code, and sometimes faster!"
   ]
  },
  {
   "cell_type": "markdown",
   "metadata": {
    "slideshow": {
     "slide_type": "slide"
    }
   },
   "source": [
    "**Arrays** (list of numbers) are at the core of research computing and Julia's arrays are extremely optimized."
   ]
  },
  {
   "cell_type": "code",
   "execution_count": 8,
   "metadata": {
    "slideshow": {
     "slide_type": "fragment"
    }
   },
   "outputs": [
    {
     "data": {
      "text/plain": [
       "3-element Array{Int64,1}:\n",
       " 1\n",
       " 2\n",
       " 3"
      ]
     },
     "execution_count": 8,
     "metadata": {},
     "output_type": "execute_result"
    }
   ],
   "source": [
    "myList = [1, 2, 3]"
   ]
  },
  {
   "cell_type": "markdown",
   "metadata": {
    "slideshow": {
     "slide_type": "fragment"
    }
   },
   "source": [
    "Array indexing starts with 1 in Julia:"
   ]
  },
  {
   "cell_type": "code",
   "execution_count": 9,
   "metadata": {
    "slideshow": {
     "slide_type": "fragment"
    }
   },
   "outputs": [
    {
     "data": {
      "text/plain": [
       "1"
      ]
     },
     "execution_count": 9,
     "metadata": {},
     "output_type": "execute_result"
    }
   ],
   "source": [
    "myList[1]"
   ]
  },
  {
   "cell_type": "code",
   "execution_count": 10,
   "metadata": {
    "slideshow": {
     "slide_type": "fragment"
    }
   },
   "outputs": [
    {
     "data": {
      "text/plain": [
       "3-element Array{Int64,1}:\n",
       " 1\n",
       " 2\n",
       " 4"
      ]
     },
     "execution_count": 10,
     "metadata": {},
     "output_type": "execute_result"
    }
   ],
   "source": [
    "myList[3] = 4\n",
    "myList"
   ]
  },
  {
   "cell_type": "markdown",
   "metadata": {
    "slideshow": {
     "slide_type": "slide"
    }
   },
   "source": [
    "A 2-dimensional array is a Matrix"
   ]
  },
  {
   "cell_type": "code",
   "execution_count": 11,
   "metadata": {
    "slideshow": {
     "slide_type": "fragment"
    }
   },
   "outputs": [
    {
     "data": {
      "text/plain": [
       "3×3 Array{Int64,2}:\n",
       " 1  2  3\n",
       " 2  1  2\n",
       " 3  2  1"
      ]
     },
     "execution_count": 11,
     "metadata": {},
     "output_type": "execute_result"
    }
   ],
   "source": [
    "A = [1 2 3\n",
    "     2 1 2\n",
    "     3 2 1]\n",
    "\n",
    "A = [1 2 3; 2 1 2; 3 2 1] #same thing"
   ]
  },
  {
   "cell_type": "markdown",
   "metadata": {
    "slideshow": {
     "slide_type": "subslide"
    }
   },
   "source": [
    "Matrices can be multiplied, inverted..."
   ]
  },
  {
   "cell_type": "code",
   "execution_count": 12,
   "metadata": {
    "slideshow": {
     "slide_type": "fragment"
    }
   },
   "outputs": [
    {
     "data": {
      "text/plain": [
       "3×3 Array{Float64,2}:\n",
       " 1.0  2.0  3.0\n",
       " 2.0  1.0  2.0\n",
       " 3.0  2.0  1.0"
      ]
     },
     "execution_count": 12,
     "metadata": {},
     "output_type": "execute_result"
    }
   ],
   "source": [
    "A^-1 #inverse\n",
    "\n",
    "A^2 * A^-1"
   ]
  },
  {
   "cell_type": "code",
   "execution_count": 13,
   "metadata": {
    "slideshow": {
     "slide_type": "fragment"
    }
   },
   "outputs": [
    {
     "data": {
      "text/plain": [
       "3-element Array{Int64,1}:\n",
       " 14\n",
       " 10\n",
       " 10"
      ]
     },
     "execution_count": 13,
     "metadata": {},
     "output_type": "execute_result"
    }
   ],
   "source": [
    "A*[1,2,3]"
   ]
  },
  {
   "cell_type": "code",
   "execution_count": 14,
   "metadata": {
    "slideshow": {
     "slide_type": "subslide"
    }
   },
   "outputs": [
    {
     "data": {
      "text/plain": [
       "3-element Array{Float64,1}:\n",
       " -2.0     \n",
       " -0.701562\n",
       "  5.70156 "
      ]
     },
     "execution_count": 14,
     "metadata": {},
     "output_type": "execute_result"
    }
   ],
   "source": [
    "eigenValues, eigenVectors = eig(A)\n",
    "eigenValues"
   ]
  },
  {
   "cell_type": "markdown",
   "metadata": {
    "slideshow": {
     "slide_type": "slide"
    }
   },
   "source": [
    "### Just-in-time compilation\n",
    "\n",
    "We mentioned earlier that one of the reasons Julia is fast is _just-in-time_ compilation. This means that right before a function is executed, Julia compiles it and optimizes it. Function compilations are also cached for future use."
   ]
  },
  {
   "cell_type": "code",
   "execution_count": 15,
   "metadata": {
    "slideshow": {
     "slide_type": "subslide"
    }
   },
   "outputs": [
    {
     "name": "stdout",
     "output_type": "stream",
     "text": [
      "First use: slow like a dynamic language\n",
      "  0.000000 seconds\n",
      "  0.238246 seconds (207.92 k allocations: 10.993 MiB, 4.32% gc time)\n",
      "Second use: compiled and optimized automatically\n",
      "  0.000000 seconds\n",
      "  0.000073 seconds (149 allocations: 13.688 KiB)\n"
     ]
    }
   ],
   "source": [
    "function countTo(n)\n",
    "    count = 0\n",
    "    @time for i = 1:n\n",
    "        count += 1\n",
    "    end\n",
    "    return count\n",
    "end\n",
    "println(\"First use: slow like a dynamic language\")\n",
    "@time countTo(10_000_000)\n",
    "println(\"Second use: compiled and optimized automatically\")\n",
    "@time countTo(10_000_000);"
   ]
  },
  {
   "cell_type": "markdown",
   "metadata": {
    "slideshow": {
     "slide_type": "slide"
    }
   },
   "source": [
    "### Type stability\n",
    "\n",
    "Other interpreted languages have just-in-time compilers (e.g. Python). Why is Julia better?\n",
    "\n",
    "**Types:** Everything has a type in Julia"
   ]
  },
  {
   "cell_type": "code",
   "execution_count": 16,
   "metadata": {
    "slideshow": {
     "slide_type": "fragment"
    }
   },
   "outputs": [
    {
     "data": {
      "text/plain": [
       "Int64"
      ]
     },
     "execution_count": 16,
     "metadata": {},
     "output_type": "execute_result"
    }
   ],
   "source": [
    "typeof(1)"
   ]
  },
  {
   "cell_type": "code",
   "execution_count": 17,
   "metadata": {
    "slideshow": {
     "slide_type": "fragment"
    }
   },
   "outputs": [
    {
     "data": {
      "text/plain": [
       "Float64"
      ]
     },
     "execution_count": 17,
     "metadata": {},
     "output_type": "execute_result"
    }
   ],
   "source": [
    "typeof(1.5)"
   ]
  },
  {
   "cell_type": "code",
   "execution_count": 18,
   "metadata": {
    "slideshow": {
     "slide_type": "fragment"
    }
   },
   "outputs": [
    {
     "data": {
      "text/plain": [
       "String"
      ]
     },
     "execution_count": 18,
     "metadata": {},
     "output_type": "execute_result"
    }
   ],
   "source": [
    "typeof(\"abc\")"
   ]
  },
  {
   "cell_type": "markdown",
   "metadata": {
    "slideshow": {
     "slide_type": "slide"
    }
   },
   "source": [
    "Type stability is the idea that there is only 1 possible type which can be outputtted from a method. For example, the reasonable type to output from `*(::Int64,::Int64)` is an `Int64`. No matter what you give it, it will spit out an `Int64`.\n",
    "\n",
    "This is called **[multiple dispatch](https://en.wikipedia.org/wiki/Multiple_dispatch)** : the `*` operator calls a different method depending on the types that it sees."
   ]
  },
  {
   "cell_type": "code",
   "execution_count": 19,
   "metadata": {
    "slideshow": {
     "slide_type": "fragment"
    }
   },
   "outputs": [
    {
     "data": {
      "text/plain": [
       "1//2"
      ]
     },
     "execution_count": 19,
     "metadata": {},
     "output_type": "execute_result"
    }
   ],
   "source": [
    "1//2 # fraction in Julia"
   ]
  },
  {
   "cell_type": "code",
   "execution_count": 20,
   "metadata": {
    "slideshow": {
     "slide_type": "fragment"
    }
   },
   "outputs": [
    {
     "data": {
      "text/plain": [
       "Rational{Int64}"
      ]
     },
     "execution_count": 20,
     "metadata": {},
     "output_type": "execute_result"
    }
   ],
   "source": [
    "typeof(1//2)"
   ]
  },
  {
   "cell_type": "code",
   "execution_count": 21,
   "metadata": {
    "slideshow": {
     "slide_type": "fragment"
    }
   },
   "outputs": [
    {
     "data": {
      "text/plain": [
       "1//4"
      ]
     },
     "execution_count": 21,
     "metadata": {},
     "output_type": "execute_result"
    }
   ],
   "source": [
    "(1//2)*(1//2)"
   ]
  },
  {
   "cell_type": "code",
   "execution_count": 22,
   "metadata": {
    "slideshow": {
     "slide_type": "fragment"
    }
   },
   "outputs": [
    {
     "data": {
      "text/plain": [
       "0.25"
      ]
     },
     "execution_count": 22,
     "metadata": {},
     "output_type": "execute_result"
    }
   ],
   "source": [
    "(0.5)*(0.5) # The same function gives different results depending on the type"
   ]
  },
  {
   "cell_type": "code",
   "execution_count": 23,
   "metadata": {
    "slideshow": {
     "slide_type": "fragment"
    }
   },
   "outputs": [
    {
     "data": {
      "text/plain": [
       "-1 + 0im"
      ]
     },
     "execution_count": 23,
     "metadata": {},
     "output_type": "execute_result"
    }
   ],
   "source": [
    "(im)*(im) # This also works with complex numbers"
   ]
  },
  {
   "cell_type": "code",
   "execution_count": 24,
   "metadata": {
    "slideshow": {
     "slide_type": "subslide"
    }
   },
   "outputs": [
    {
     "name": "stdout",
     "output_type": "stream",
     "text": [
      "Default output\n",
      "You gave me an integer!\n",
      "Default output\n"
     ]
    }
   ],
   "source": [
    "function myFunction(x)\n",
    "    println(\"Default output\")\n",
    "end\n",
    "\n",
    "function myFunction(x::Int) # only called when x is an integer\n",
    "    println(\"You gave me an integer!\")\n",
    "end\n",
    "\n",
    "myFunction(1.0)\n",
    "myFunction(1)\n",
    "myFunction(\"ORC\")"
   ]
  },
  {
   "cell_type": "markdown",
   "metadata": {
    "slideshow": {
     "slide_type": "slide"
    }
   },
   "source": [
    "#### How does type stability help?\n",
    "\n",
    "To explore the power of Julia's type-stable system, we will use code introspection macros to see what the code actually compiles to. Let's look at the code in LLVM, a portable assembly language:"
   ]
  },
  {
   "cell_type": "code",
   "execution_count": 25,
   "metadata": {
    "slideshow": {
     "slide_type": "fragment"
    }
   },
   "outputs": [
    {
     "name": "stdout",
     "output_type": "stream",
     "text": [
      "\n",
      "define i64 @\"jlsys_*_58570\"(i64, i64) #0 !dbg !5 {\n",
      "top:\n",
      "  %2 = mul i64 %1, %0\n",
      "  ret i64 %2\n",
      "}\n"
     ]
    }
   ],
   "source": [
    "@code_llvm 2*5"
   ]
  },
  {
   "cell_type": "markdown",
   "metadata": {
    "slideshow": {
     "slide_type": "subslide"
    }
   },
   "source": [
    "The code above is short and sweet: it multiplies the two numbers and returns the result. It turns out that the compiled code is _the same_ as the compiled version of the same code written in C or Fortran."
   ]
  },
  {
   "cell_type": "markdown",
   "metadata": {
    "slideshow": {
     "slide_type": "subslide"
    }
   },
   "source": [
    "_Question_: in what cases does the code compile to something as efficient as C/Fortran?\n",
    "\n",
    "_Answer_: **type-stability**. If a function is type-stable, then the compiler can know what the type will be at all points in the function and smartly optimize it to the same assembly as C/Fortran. If it is not type-stable, Julia has to add expensive \"boxing\" to ensure types are found/known before operations are performed."
   ]
  },
  {
   "cell_type": "markdown",
   "metadata": {
    "slideshow": {
     "slide_type": "subslide"
    }
   },
   "source": [
    "Requiring type stability as a design decision has some interesting effects. Let's try to raise an integer to a negative power."
   ]
  },
  {
   "cell_type": "code",
   "execution_count": 26,
   "metadata": {
    "slideshow": {
     "slide_type": "fragment"
    }
   },
   "outputs": [
    {
     "ename": "LoadError",
     "evalue": "DomainError:\nCannot raise an integer x to a negative power -n. \nMake x a float by adding a zero decimal (e.g. 2.0^-n instead of 2^-n), or write 1/x^n, float(x)^-n, or (x//1)^-n.",
     "output_type": "error",
     "traceback": [
      "DomainError:\nCannot raise an integer x to a negative power -n. \nMake x a float by adding a zero decimal (e.g. 2.0^-n instead of 2^-n), or write 1/x^n, float(x)^-n, or (x//1)^-n.",
      "",
      "Stacktrace:",
      " [1] \u001b[1mpower_by_squaring\u001b[22m\u001b[22m\u001b[1m(\u001b[22m\u001b[22m::Int64, ::Int64\u001b[1m)\u001b[22m\u001b[22m at \u001b[1m./intfuncs.jl:170\u001b[22m\u001b[22m",
      " [2] \u001b[1mliteral_pow\u001b[22m\u001b[22m\u001b[1m(\u001b[22m\u001b[22m::Base.#^, ::Int64, ::Type{Val{-5}}\u001b[1m)\u001b[22m\u001b[22m at \u001b[1m./intfuncs.jl:205\u001b[22m\u001b[22m",
      " [3] \u001b[1minclude_string\u001b[22m\u001b[22m\u001b[1m(\u001b[22m\u001b[22m::String, ::String\u001b[1m)\u001b[22m\u001b[22m at \u001b[1m./loading.jl:515\u001b[22m\u001b[22m"
     ]
    }
   ],
   "source": [
    "2^(-5)"
   ]
  },
  {
   "cell_type": "markdown",
   "metadata": {
    "slideshow": {
     "slide_type": "subslide"
    }
   },
   "source": [
    "In any other interpreted language, the above command would work and return the answer as a `Float64`. In Julia, `^(Int64, Int64)` must return an `Int64`, which cannot represent $2^{-5}=0.03125$."
   ]
  },
  {
   "cell_type": "markdown",
   "metadata": {
    "slideshow": {
     "slide_type": "slide"
    }
   },
   "source": [
    "#### What is the price of type instability?\n",
    "\n",
    "Let's write a function that can raise integers to negative exponents, and test that it works."
   ]
  },
  {
   "cell_type": "code",
   "execution_count": 27,
   "metadata": {
    "slideshow": {
     "slide_type": "subslide"
    }
   },
   "outputs": [],
   "source": [
    "function expo(x,y)\n",
    "    if y>0\n",
    "        return x^y\n",
    "    else\n",
    "        x = convert(Float64,x)\n",
    "        return x^y\n",
    "    end\n",
    "end\n",
    "@assert expo(2, 5) == 32"
   ]
  },
  {
   "cell_type": "markdown",
   "metadata": {
    "slideshow": {
     "slide_type": "subslide"
    }
   },
   "source": [
    "Let's inspect the type-stable exponentiation code in LLVM."
   ]
  },
  {
   "cell_type": "code",
   "execution_count": 28,
   "metadata": {
    "slideshow": {
     "slide_type": "subslide"
    }
   },
   "outputs": [
    {
     "name": "stdout",
     "output_type": "stream",
     "text": [
      "\n",
      "define i64 @\"jlsys_^_53303\"(i64, i64) #0 !dbg !5 {\n",
      "top:\n",
      "  %2 = call i64 @jlsys_power_by_squaring_53305(i64 %0, i64 %1)\n",
      "  ret i64 %2\n",
      "}\n"
     ]
    }
   ],
   "source": [
    "@code_llvm ^(2,5)"
   ]
  },
  {
   "cell_type": "markdown",
   "metadata": {
    "slideshow": {
     "slide_type": "subslide"
    }
   },
   "source": [
    "Now let's inspect the type-unstable code we wrote:"
   ]
  },
  {
   "cell_type": "code",
   "execution_count": 29,
   "metadata": {
    "slideshow": {
     "slide_type": "subslide"
    }
   },
   "outputs": [
    {
     "name": "stdout",
     "output_type": "stream",
     "text": [
      "\n",
      "define { i8**, i8 } @julia_expo_61399([8 x i8]* noalias nocapture, i64, i64) #0 !dbg !5 {\n",
      "top:\n",
      "  %3 = icmp slt i64 %2, 1\n",
      "  br i1 %3, label %L5, label %if\n",
      "\n",
      "if:                                               ; preds = %top\n",
      "  %4 = call i64 @jlsys_power_by_squaring_53305(i64 %1, i64 %2)\n",
      "  %5 = bitcast [8 x i8]* %0 to i8**\n",
      "  %6 = insertvalue { i8**, i8 } undef, i8** %5, 0\n",
      "  %7 = insertvalue { i8**, i8 } %6, i8 1, 1\n",
      "  %8 = bitcast [8 x i8]* %0 to i64*\n",
      "  store i64 %4, i64* %8, align 1\n",
      "  br label %post_union_move3\n",
      "\n",
      "L5:                                               ; preds = %top\n",
      "  %9 = sitofp i64 %1 to double\n",
      "  %10 = sitofp i64 %2 to double\n",
      "  %11 = call double @llvm.pow.f64(double %9, double %10)\n",
      "  %12 = fadd double %9, %10\n",
      "  %notlhs = fcmp ord double %11, 0.000000e+00\n",
      "  %notrhs = fcmp uno double %12, 0.000000e+00\n",
      "  %13 = or i1 %notrhs, %notlhs\n",
      "  br i1 %13, label %L19, label %if10\n",
      "\n",
      "post_union_move3:                                 ; preds = %L19, %if\n",
      "  %merge = phi { i8**, i8 } [ %7, %if ], [ %16, %L19 ]\n",
      "  ret { i8**, i8 } %merge\n",
      "\n",
      "if10:                                             ; preds = %L5\n",
      "  call void @jl_throw(i8** inttoptr (i64 4403218376 to i8**))\n",
      "  unreachable\n",
      "\n",
      "L19:                                              ; preds = %L5\n",
      "  %14 = bitcast [8 x i8]* %0 to i8**\n",
      "  %15 = insertvalue { i8**, i8 } undef, i8** %14, 0\n",
      "  %16 = insertvalue { i8**, i8 } %15, i8 2, 1\n",
      "  %17 = bitcast [8 x i8]* %0 to double*\n",
      "  store double %11, double* %17, align 1\n",
      "  br label %post_union_move3\n",
      "}\n"
     ]
    }
   ],
   "source": [
    "@code_llvm expo(2,5)"
   ]
  },
  {
   "cell_type": "markdown",
   "metadata": {
    "slideshow": {
     "slide_type": "slide"
    }
   },
   "source": [
    "A lot more functionalities are available and for you to discover!"
   ]
  },
  {
   "cell_type": "code",
   "execution_count": 30,
   "metadata": {
    "scrolled": true,
    "slideshow": {
     "slide_type": "fragment"
    }
   },
   "outputs": [
    {
     "data": {
      "text/plain": [
       "5-element Array{Int64,1}:\n",
       "   4\n",
       "  16\n",
       "  36\n",
       "  64\n",
       " 100"
      ]
     },
     "execution_count": 30,
     "metadata": {},
     "output_type": "execute_result"
    }
   ],
   "source": [
    "l = [i^2 for i in 1:10 if i%2 == 0] # list comprehensions (similar to Python)"
   ]
  },
  {
   "cell_type": "code",
   "execution_count": 31,
   "metadata": {
    "slideshow": {
     "slide_type": "fragment"
    }
   },
   "outputs": [
    {
     "data": {
      "text/plain": [
       "220"
      ]
     },
     "execution_count": 31,
     "metadata": {},
     "output_type": "execute_result"
    }
   ],
   "source": [
    "sumEvenSquares = sum(i^2 for i in 1:10 if i%2 == 0) # summing over an iterator"
   ]
  },
  {
   "cell_type": "markdown",
   "metadata": {
    "slideshow": {
     "slide_type": "slide"
    }
   },
   "source": [
    "### Navigating Julia\n",
    "Julia has a package manager to quickly download, install, update and uninstall new tools (_packages_)"
   ]
  },
  {
   "cell_type": "code",
   "execution_count": null,
   "metadata": {
    "slideshow": {
     "slide_type": "subslide"
    }
   },
   "outputs": [],
   "source": [
    "# Add Packages Plots, and Pyplot (can take some time)\n",
    "Pkg.add(\"Plots\")\n",
    "Pkg.add(\"PyPlot\")\n",
    "# Update\n",
    "Pkg.update()\n",
    "#Remove:\n",
    "# Pkg.rm(\"PyPlot\")"
   ]
  },
  {
   "cell_type": "markdown",
   "metadata": {
    "slideshow": {
     "slide_type": "slide"
    }
   },
   "source": [
    "Use `?` to get the documentation of a function"
   ]
  },
  {
   "cell_type": "code",
   "execution_count": 33,
   "metadata": {
    "slideshow": {
     "slide_type": "fragment"
    }
   },
   "outputs": [
    {
     "name": "stdout",
     "output_type": "stream",
     "text": [
      "search: \u001b[1me\u001b[22m\u001b[1mi\u001b[22m\u001b[1mg\u001b[22m \u001b[1me\u001b[22m\u001b[1mi\u001b[22m\u001b[1mg\u001b[22ms \u001b[1me\u001b[22m\u001b[1mi\u001b[22m\u001b[1mg\u001b[22mmin \u001b[1me\u001b[22m\u001b[1mi\u001b[22m\u001b[1mg\u001b[22mmax \u001b[1me\u001b[22m\u001b[1mi\u001b[22m\u001b[1mg\u001b[22mvecs \u001b[1me\u001b[22m\u001b[1mi\u001b[22m\u001b[1mg\u001b[22mvals \u001b[1me\u001b[22m\u001b[1mi\u001b[22m\u001b[1mg\u001b[22mfact \u001b[1me\u001b[22m\u001b[1mi\u001b[22m\u001b[1mg\u001b[22mvals! \u001b[1me\u001b[22m\u001b[1mi\u001b[22m\u001b[1mg\u001b[22mfact!\n",
      "\n"
     ]
    },
    {
     "data": {
      "text/markdown": [
       "```\n",
       "eig(A::Union{SymTridiagonal, Hermitian, Symmetric}, irange::UnitRange) -> D, V\n",
       "eig(A::Union{SymTridiagonal, Hermitian, Symmetric}, vl::Real, vu::Real) -> D, V\n",
       "eig(A, permute::Bool=true, scale::Bool=true) -> D, V\n",
       "```\n",
       "\n",
       "Computes eigenvalues (`D`) and eigenvectors (`V`) of `A`. See [`eigfact`](@ref) for details on the `irange`, `vl`, and `vu` arguments (for [`SymTridiagonal`](@ref), `Hermitian`, and `Symmetric` matrices) and the `permute` and `scale` keyword arguments. The eigenvectors are returned columnwise.\n",
       "\n",
       "# Example\n",
       "\n",
       "```jldoctest\n",
       "julia> eig([1.0 0.0 0.0; 0.0 3.0 0.0; 0.0 0.0 18.0])\n",
       "([1.0, 3.0, 18.0], [1.0 0.0 0.0; 0.0 1.0 0.0; 0.0 0.0 1.0])\n",
       "```\n",
       "\n",
       "`eig` is a wrapper around [`eigfact`](@ref), extracting all parts of the factorization to a tuple; where possible, using [`eigfact`](@ref) is recommended.\n",
       "\n",
       "```\n",
       "eig(A, B) -> D, V\n",
       "```\n",
       "\n",
       "Computes generalized eigenvalues (`D`) and vectors (`V`) of `A` with respect to `B`.\n",
       "\n",
       "`eig` is a wrapper around [`eigfact`](@ref), extracting all parts of the factorization to a tuple; where possible, using [`eigfact`](@ref) is recommended.\n",
       "\n",
       "# Example\n",
       "\n",
       "```jldoctest\n",
       "julia> A = [1 0; 0 -1]\n",
       "2×2 Array{Int64,2}:\n",
       " 1   0\n",
       " 0  -1\n",
       "\n",
       "julia> B = [0 1; 1 0]\n",
       "2×2 Array{Int64,2}:\n",
       " 0  1\n",
       " 1  0\n",
       "\n",
       "julia> eig(A, B)\n",
       "(Complex{Float64}[0.0+1.0im, 0.0-1.0im], Complex{Float64}[0.0-1.0im 0.0+1.0im; -1.0-0.0im -1.0+0.0im])\n",
       "```\n"
      ],
      "text/plain": [
       "```\n",
       "eig(A::Union{SymTridiagonal, Hermitian, Symmetric}, irange::UnitRange) -> D, V\n",
       "eig(A::Union{SymTridiagonal, Hermitian, Symmetric}, vl::Real, vu::Real) -> D, V\n",
       "eig(A, permute::Bool=true, scale::Bool=true) -> D, V\n",
       "```\n",
       "\n",
       "Computes eigenvalues (`D`) and eigenvectors (`V`) of `A`. See [`eigfact`](@ref) for details on the `irange`, `vl`, and `vu` arguments (for [`SymTridiagonal`](@ref), `Hermitian`, and `Symmetric` matrices) and the `permute` and `scale` keyword arguments. The eigenvectors are returned columnwise.\n",
       "\n",
       "# Example\n",
       "\n",
       "```jldoctest\n",
       "julia> eig([1.0 0.0 0.0; 0.0 3.0 0.0; 0.0 0.0 18.0])\n",
       "([1.0, 3.0, 18.0], [1.0 0.0 0.0; 0.0 1.0 0.0; 0.0 0.0 1.0])\n",
       "```\n",
       "\n",
       "`eig` is a wrapper around [`eigfact`](@ref), extracting all parts of the factorization to a tuple; where possible, using [`eigfact`](@ref) is recommended.\n",
       "\n",
       "```\n",
       "eig(A, B) -> D, V\n",
       "```\n",
       "\n",
       "Computes generalized eigenvalues (`D`) and vectors (`V`) of `A` with respect to `B`.\n",
       "\n",
       "`eig` is a wrapper around [`eigfact`](@ref), extracting all parts of the factorization to a tuple; where possible, using [`eigfact`](@ref) is recommended.\n",
       "\n",
       "# Example\n",
       "\n",
       "```jldoctest\n",
       "julia> A = [1 0; 0 -1]\n",
       "2×2 Array{Int64,2}:\n",
       " 1   0\n",
       " 0  -1\n",
       "\n",
       "julia> B = [0 1; 1 0]\n",
       "2×2 Array{Int64,2}:\n",
       " 0  1\n",
       " 1  0\n",
       "\n",
       "julia> eig(A, B)\n",
       "(Complex{Float64}[0.0+1.0im, 0.0-1.0im], Complex{Float64}[0.0-1.0im 0.0+1.0im; -1.0-0.0im -1.0+0.0im])\n",
       "```\n"
      ]
     },
     "execution_count": 33,
     "metadata": {},
     "output_type": "execute_result"
    }
   ],
   "source": [
    "?eig"
   ]
  },
  {
   "cell_type": "markdown",
   "metadata": {
    "slideshow": {
     "slide_type": "slide"
    }
   },
   "source": [
    "Use tab-completion to auto-complete functions and variables names: try ``myF<TAB>``:"
   ]
  },
  {
   "cell_type": "code",
   "execution_count": null,
   "metadata": {
    "slideshow": {
     "slide_type": "fragment"
    }
   },
   "outputs": [],
   "source": [
    "myF\n",
    "fac"
   ]
  },
  {
   "cell_type": "markdown",
   "metadata": {
    "slideshow": {
     "slide_type": "slide"
    }
   },
   "source": [
    "The ``methods`` function lists all of the different implementations of a function depending on the input types.\n",
    "Click on the link to see the Julia source code."
   ]
  },
  {
   "cell_type": "code",
   "execution_count": 35,
   "metadata": {
    "slideshow": {
     "slide_type": "fragment"
    }
   },
   "outputs": [
    {
     "data": {
      "text/html": [
       "10 methods for generic function <b>sin</b>:<ul><li> sin(x::<b>BigFloat</b>) at <a href=\"https://github.com/JuliaLang/julia/tree/903644385b91ed8d95e5e3a5716c089dd1f1b08a/base/mpfr.jl#L637\" target=\"_blank\">mpfr.jl:637</a></li> <li> sin(a::<b>Complex{Float16}</b>) at <a href=\"https://github.com/JuliaLang/julia/tree/903644385b91ed8d95e5e3a5716c089dd1f1b08a/base/math.jl#L951\" target=\"_blank\">math.jl:951</a></li> <li> sin(a::<b>Float16</b>) at <a href=\"https://github.com/JuliaLang/julia/tree/903644385b91ed8d95e5e3a5716c089dd1f1b08a/base/math.jl#L950\" target=\"_blank\">math.jl:950</a></li> <li> sin(x::<b>Float32</b>) at <a href=\"https://github.com/JuliaLang/julia/tree/903644385b91ed8d95e5e3a5716c089dd1f1b08a/base/math.jl#L420\" target=\"_blank\">math.jl:420</a></li> <li> sin(x::<b>Float64</b>) at <a href=\"https://github.com/JuliaLang/julia/tree/903644385b91ed8d95e5e3a5716c089dd1f1b08a/base/math.jl#L419\" target=\"_blank\">math.jl:419</a></li> <li> sin<i>{T}</i>(z::<b>Complex{T}</b>) at <a href=\"https://github.com/JuliaLang/julia/tree/903644385b91ed8d95e5e3a5716c089dd1f1b08a/base/complex.jl#L688\" target=\"_blank\">complex.jl:688</a></li> <li> sin(x::<b>Real</b>) at <a href=\"https://github.com/JuliaLang/julia/tree/903644385b91ed8d95e5e3a5716c089dd1f1b08a/base/math.jl#L421\" target=\"_blank\">math.jl:421</a></li> <li> sin(A::<b>SparseMatrixCSC</b>) at <a href=\"https://github.com/JuliaLang/julia/tree/903644385b91ed8d95e5e3a5716c089dd1f1b08a/base/deprecated.jl#L56\" target=\"_blank\">deprecated.jl:56</a></li> <li> sin<i>{Ti<:Integer, Tv<:Number}</i>(x::<b>AbstractSparseArray{Tv,Ti,1}</b>) at <a href=\"https://github.com/JuliaLang/julia/tree/903644385b91ed8d95e5e3a5716c089dd1f1b08a/base/sparse/sparsevector.jl#L1008\" target=\"_blank\">sparse/sparsevector.jl:1008</a></li> <li> sin<i>{T<:Number}</i>(x::<b>AbstractArray{T,N} where N</b>) at <a href=\"https://github.com/JuliaLang/julia/tree/903644385b91ed8d95e5e3a5716c089dd1f1b08a/base/deprecated.jl#L56\" target=\"_blank\">deprecated.jl:56</a></li> </ul>"
      ],
      "text/plain": [
       "# 10 methods for generic function \"sin\":\n",
       "sin(x::BigFloat) in Base.MPFR at mpfr.jl:637\n",
       "sin(a::Complex{Float16}) in Base.Math at math.jl:951\n",
       "sin(a::Float16) in Base.Math at math.jl:950\n",
       "sin(x::Float32) in Base.Math at math.jl:420\n",
       "sin(x::Float64) in Base.Math at math.jl:419\n",
       "sin(z::Complex{T}) where T in Base at complex.jl:688\n",
       "sin(x::Real) in Base.Math at math.jl:421\n",
       "sin(A::SparseMatrixCSC) in Base at deprecated.jl:56\n",
       "sin(x::AbstractSparseArray{Tv,Ti,1}) where {Ti<:Integer, Tv<:Number} in Base.SparseArrays at sparse/sparsevector.jl:1008\n",
       "sin(x::AbstractArray{T,N} where N) where T<:Number in Base at deprecated.jl:56"
      ]
     },
     "execution_count": 35,
     "metadata": {},
     "output_type": "execute_result"
    }
   ],
   "source": [
    "methods(sin)"
   ]
  },
  {
   "cell_type": "markdown",
   "metadata": {
    "slideshow": {
     "slide_type": "slide"
    }
   },
   "source": [
    "### Plotting in IJulia\n",
    "There are several Julia plotting packages. \n",
    "\n",
    "- [PyPlot.jl][3] is a Julia interface to Matplotlib, and should feel familiar to both MATLAB and Python users.\n",
    "- [Gadfly][1] is written entirely in Julia, inspired by ggplot2, and concentrates on statistical graphics.\n",
    "- [Plotly supports Julia][2].\n",
    "- [Plots][4] is a _meta_ plotting package, that can use any other plotting package to make the same plot \n",
    "- And a lot more\n",
    "\n",
    "Jupyter/IJulia will render the plots directly on the notebook!\n",
    "\n",
    "[1]: https://github.com/dcjones/Gadfly.jl\n",
    "[2]: https://plot.ly/julia/\n",
    "[3]: https://github.com/stevengj/PyPlot.jl\n",
    "[4]: https://juliaplots.github.io"
   ]
  },
  {
   "cell_type": "code",
   "execution_count": 37,
   "metadata": {
    "slideshow": {
     "slide_type": "slide"
    }
   },
   "outputs": [
    {
     "data": {
      "text/html": [
       "<img src=\"data:image/png;base64,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\" />"
      ]
     },
     "execution_count": 37,
     "metadata": {},
     "output_type": "execute_result"
    }
   ],
   "source": [
    "using Plots\n",
    "pyplot() #plot using Matplotlib\n",
    "x = linspace(0,5,1000)\n",
    "plot(x, sin.(x.^2))"
   ]
  },
  {
   "cell_type": "markdown",
   "metadata": {
    "slideshow": {
     "slide_type": "fragment"
    }
   },
   "source": [
    "Note that the first plot while always take a few seconds to be drawn, a consequence of Julia's just in time compilation. Lots of other plot types are available"
   ]
  },
  {
   "cell_type": "markdown",
   "metadata": {
    "slideshow": {
     "slide_type": "slide"
    }
   },
   "source": [
    "## Advanced use of Julia and Notebooks\n",
    "The following is just a sample of what can be done with Julia and notebooks. Feel free to explore by yourself any item of interest"
   ]
  },
  {
   "cell_type": "markdown",
   "metadata": {
    "slideshow": {
     "slide_type": "slide"
    }
   },
   "source": [
    "### Notebooks\n",
    "Jupyter notebooks have a lot of interesting hidden functionalities!"
   ]
  },
  {
   "cell_type": "markdown",
   "metadata": {
    "slideshow": {
     "slide_type": "subslide"
    }
   },
   "source": [
    "**Github and sharing**\n",
    "\n",
    "If you save your .ipynb notebook file in a .git project, hosted on Github, you can easily visualize and share it online (in non-interactive mode).\n",
    "\n",
    "For example, this notebook is available at https://github.com/sebmart/intro-julia-jupyter/blob/master/intro-julia-jupyter.ipynb\n",
    "\n",
    "You can also use [Gist](https://gist.github.com) and [nbviewer](http://nbviewer.jupyter.org) to quickly share a notebook (for example to your advisor) without creating a git repo."
   ]
  },
  {
   "cell_type": "markdown",
   "metadata": {
    "slideshow": {
     "slide_type": "subslide"
    }
   },
   "source": [
    "**Converting your notebook**\n",
    "\n",
    "Jupyter notebooks are a popular format that can be converted to a variety of types of documents, depending on your needs:\n",
    "- Latex\n",
    "- HTML\n",
    "- PDF\n",
    "- Slides with Reveal.JS (used to present this notebook!)\n",
    "- Markdown ...\n",
    "\n",
    "These conversions use the [`nbconvert`](https://github.com/jupyter/nbconvert) command."
   ]
  },
  {
   "cell_type": "markdown",
   "metadata": {
    "slideshow": {
     "slide_type": "subslide"
    }
   },
   "source": [
    "**Remote computing**\n",
    "\n",
    "The Notebook system is a web interface. Notebooks can be run on another computer. This is useful if you want your code to run on a more powerful remote machine.\n",
    "\n",
    "[Port-forwarding](https://help.ubuntu.com/community/SSH/OpenSSH/PortForwarding) through SSH is a good start for this."
   ]
  },
  {
   "cell_type": "markdown",
   "metadata": {
    "slideshow": {
     "slide_type": "subslide"
    }
   },
   "source": [
    "**Advanced Markdown**\n",
    "\n",
    "Jupyter text cells use Markdown for formatting. Markdown is an easy to use formatting language (a little like HTML or LaTeX in more simple). You can use the text of this notebook as an example, or learn more [here](https://github.com/adam-p/markdown-here/wiki/Markdown-Cheatsheet).\n",
    "\n",
    "Jupyter uses _Github flavored Markdown_, and is particularly good at displaying math and colored code. You can even include a video!"
   ]
  },
  {
   "cell_type": "markdown",
   "metadata": {
    "slideshow": {
     "slide_type": "slide"
    }
   },
   "source": [
    "### Julia\n",
    "We only presented a small subset of Julia functionalities. We list here of few interesting things you may not know."
   ]
  },
  {
   "cell_type": "markdown",
   "metadata": {
    "slideshow": {
     "slide_type": "subslide"
    }
   },
   "source": [
    "**Using the command line from Julia**\n",
    "\n",
    "You can run bash commands directly from Julia by starting the command with a semicolon: `;`"
   ]
  },
  {
   "cell_type": "code",
   "execution_count": 38,
   "metadata": {
    "slideshow": {
     "slide_type": "fragment"
    }
   },
   "outputs": [
    {
     "name": "stdout",
     "output_type": "stream",
     "text": [
      "README.md\n",
      "figures\n",
      "intro-julia-jupyter.ipynb\n",
      "intro-julia-jupyter.slides.html\n"
     ]
    }
   ],
   "source": [
    ";ls"
   ]
  },
  {
   "cell_type": "markdown",
   "metadata": {
    "slideshow": {
     "slide_type": "subslide"
    }
   },
   "source": [
    "**Unicode character** \n",
    "\n",
    "You can use unicode characters as part of variables and function names in Julia. You can use $\\LaTeX$-style autocompletes in the Julia terminal or a Jupyter/IJulia code-cell to write them. Some of them are already defined Julia constants and functions\n",
    "> Try to type `\\pi<TAB>` in a cell."
   ]
  },
  {
   "cell_type": "code",
   "execution_count": 39,
   "metadata": {
    "slideshow": {
     "slide_type": "fragment"
    }
   },
   "outputs": [
    {
     "data": {
      "text/plain": [
       "π = 3.1415926535897..."
      ]
     },
     "execution_count": 39,
     "metadata": {},
     "output_type": "execute_result"
    }
   ],
   "source": [
    "π"
   ]
  },
  {
   "cell_type": "code",
   "execution_count": 40,
   "metadata": {
    "slideshow": {
     "slide_type": "subslide"
    }
   },
   "outputs": [
    {
     "data": {
      "text/plain": [
       "true"
      ]
     },
     "execution_count": 40,
     "metadata": {},
     "output_type": "execute_result"
    }
   ],
   "source": [
    "\"carrot\" ∈ [\"potato\", \"tomato\", \"carrot\"]"
   ]
  },
  {
   "cell_type": "markdown",
   "metadata": {
    "slideshow": {
     "slide_type": "subslide"
    }
   },
   "source": [
    "**Juno**\n",
    "\n",
    "Julia has a very nice and powerful text editor, [_Juno_](http://junolab.org), that is built on [Atom](https://atom.io). It is very similar to the Matlab interface or RStudio. Functionalities include:\n",
    "- Autocomplete\n",
    "- Integrated Plotting\n",
    "- Debugging, Manual, ...\n",
    "\n",
    "It is better suited for serious projects with several files, when an IJulia notebook is not enough."
   ]
  },
  {
   "cell_type": "markdown",
   "metadata": {
    "slideshow": {
     "slide_type": "subslide"
    }
   },
   "source": [
    "**Advanced Julia functionalities**\n",
    "Julia is a state-of-the-art programming language, with lots of useful functionalities, including:\n",
    "- [Powerful Macros](http://docs.julialang.org/en/release-0.5/manual/metaprogramming/) (meta-programming)\n",
    "- [Code testing](http://docs.julialang.org/en/release-0.5/stdlib/test/)\n",
    "- [User-defined types](docs.julialang.org/en/release-0.5/manual/types/), that are as fast as built-in ones.\n",
    "- [Package creation](http://docs.julialang.org/en/release-0.5/manual/modules/)\n",
    "- A new [debugger](https://github.com/Keno/Gallium.jl) "
   ]
  },
  {
   "cell_type": "markdown",
   "metadata": {
    "slideshow": {
     "slide_type": "slide"
    }
   },
   "source": [
    "### Interesting Packages\n",
    "Using the Package eco-system, there is almost nothing you cannot achieve:"
   ]
  },
  {
   "cell_type": "markdown",
   "metadata": {
    "slideshow": {
     "slide_type": "fragment"
    }
   },
   "source": [
    "-       Advanced Plotting   with [**Plots.jl**](https://juliaplots.github.io). Functionalities include 3D-plots, animated plots, stats plots, home-made plot \"recipes\" ..."
   ]
  },
  {
   "cell_type": "markdown",
   "metadata": {
    "slideshow": {
     "slide_type": "fragment"
    }
   },
   "source": [
    "- Call any python call using [**PyCall.jl**](https://github.com/JuliaPy/PyCall.jl). (you can also interacts with several other languages)"
   ]
  },
  {
   "cell_type": "markdown",
   "metadata": {
    "slideshow": {
     "slide_type": "subslide"
    }
   },
   "source": [
    "- Advanced graphs/networks algorithms with [**LightGraphs.jl**](https://github.com/JuliaGraphs/LightGraphs.jl)"
   ]
  },
  {
   "cell_type": "markdown",
   "metadata": {
    "slideshow": {
     "slide_type": "fragment"
    }
   },
   "source": [
    "- Applications in [**Finance**](https://github.com/JuliaQuant), [**Biology**](https://github.com/BioJulia/Bio.jl), [**Stats and Machine Learning**](http://juliastats.github.io), [**Optimization**](http://www.juliaopt.org) (including the great [**JuMP**](https://github.com/JuliaOpt/JuMP.jl) package!)"
   ]
  },
  {
   "cell_type": "markdown",
   "metadata": {
    "slideshow": {
     "slide_type": "subslide"
    }
   },
   "source": [
    "- Save and load your variables or environment to a file with [**JLD.jl**](https://github.com/JuliaIO/JLD.jl)"
   ]
  },
  {
   "cell_type": "markdown",
   "metadata": {
    "slideshow": {
     "slide_type": "fragment"
    }
   },
   "source": [
    "- More data structures in [**DataStructures.jl**](https://github.com/JuliaLang/DataStructures.jl)"
   ]
  },
  {
   "cell_type": "markdown",
   "metadata": {
    "slideshow": {
     "slide_type": "fragment"
    }
   },
   "source": [
    "- And a lot more in the **over 1200 registered packages**!"
   ]
  }
 ],
 "metadata": {
  "celltoolbar": "Slideshow",
  "kernelspec": {
   "display_name": "Julia 0.6.0",
   "language": "julia",
   "name": "julia-0.6"
  },
  "language_info": {
   "file_extension": ".jl",
   "mimetype": "application/julia",
   "name": "julia",
   "version": "0.6.0"
  }
 },
 "nbformat": 4,
 "nbformat_minor": 1
}
