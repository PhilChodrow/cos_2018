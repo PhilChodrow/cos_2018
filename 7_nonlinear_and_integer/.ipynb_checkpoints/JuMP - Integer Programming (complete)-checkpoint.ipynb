{
 "cells": [
  {
   "cell_type": "markdown",
   "metadata": {},
   "source": [
    "# Mixed-integer programming\n",
    "\n",
    "Operations research often involves models where you need discrete decisions. \n",
    "\n",
    "Suppose Iain wants to carry items to the pawn shop to get some extra cash. He has $N$ items, each with a weight $w_i$ and a price $p_i$. Iain hasn't been to the gym lately, so he can only carry $C$ kilos. How does he choose what to bring with him?\n",
    "\n",
    "We can model this as an integer optimization problem:\n",
    "\n",
    "\\begin{align*}\n",
    "\\max& \\sum_{i=1}^N p_i x_i \\\\\n",
    "\\text{s.t.}& \\sum_{i=1}^N w_i x_i \\leq C \\\\\n",
    "& x_i \\in \\{0,1\\} \\quad \\forall i = 1,\\ldots,N\n",
    "\\end{align*}\n"
   ]
  },
  {
   "cell_type": "markdown",
   "metadata": {},
   "source": [
    "## Example\n",
    "\n",
    "In particular, consider the following (small) knapsack problem:\n",
    "\n",
    "\\begin{align*}\n",
    "    \\max\\:& x + y \\\\\n",
    "    \\text{s.t.}\\:& x + 2y \\leq 1.5 \\\\\n",
    "    & x, y \\in \\{0,1\\}\n",
    "\\end{align*}\n",
    "\n",
    "How would you solve this? "
   ]
  },
  {
   "cell_type": "markdown",
   "metadata": {},
   "source": [
    "## Branch and Bound Tree\n",
    "\n",
    "The simple way is just to consider each possible value for $x$ and $y$ and compare the cost.\n",
    "\n",
    "![alt text](img/tree_1.png)\n",
    "\n",
    "In the general case, this would lead to $2^N$ possible collections of items. After Iain has weighed all of them (and verified that he can lift them at once), he just chooses the best set."
   ]
  },
  {
   "cell_type": "markdown",
   "metadata": {},
   "source": [
    "\n",
    "Let's visualize this approach as a search tree:\n",
    "\n",
    "![alt text](img/tree_2.png)\n",
    "\n",
    "It's rooted at what we call the _relaxation_: none of variables have integrality enforced. As we go down leaves of the tree, we add pick a variable to _branch_ on, and create two descended nodes that fix that variable to one of its possible values. If we follow the tree all the way to the bottom, we reach our enumeration from before.\n",
    "\n",
    "As we go down the arcs of the tree we restrict our problem more and more, we must have that:\n",
    "\n",
    ">If node ``q`` is descended from node ``p``, we must have that the optimal cost of subproblem ``q`` is no more than that for node ``p``\n",
    "\n",
    "This leads us to a powerful tool in solving these enumeration problems: \n",
    "\n",
    ">If I can show you that the optimal cost for subproblem ``q`` is _less_ than the optimal cost for the original problem, the same is true for any descendent of ``q``. "
   ]
  },
  {
   "cell_type": "markdown",
   "metadata": {},
   "source": [
    "\n",
    "That is, we can _prune_ the tree and safely discard some nodes, kind of like this:\n",
    "\n",
    "![alt text](img/tree_3.png)"
   ]
  },
  {
   "cell_type": "markdown",
   "metadata": {},
   "source": [
    "## Worked Example\n",
    "\n",
    "\\begin{align*}\n",
    "    \\max\\quad& x + y \\\\\n",
    "    \\text{s.t.}\\quad& x + 2y \\leq 1.5 \\\\\n",
    "    & 0 \\leq x, y \\leq 1 \\\\\n",
    "    & x, y \\in \\{0,1\\}\n",
    "\\end{align*}\n",
    "\n",
    "What does the relaxation (no integrality restrictions) of this problem look like?\n",
    "\n",
    "![fig1](http://www.mit.edu/~huchette/.tmp/fig1.svg)\n",
    "\n",
    "First, we solve the LP relaxation and get $(x^*,y^*) = (1,0.25)$. \n",
    "\n",
    "![fig1](http://www.mit.edu/~huchette/.tmp/fig2.svg)\n",
    "\n",
    "This isn't integer feasible, so we branch on $y$. The subproblem with $y = 1$ is infeasible, and the subproblem with $y = 0$ is feasible with solution $(x^*,y^*) = (1,0)$. This is integer feasible, so we update our lower bound. We've also exhausted the tree, so we have our optimal solution!\n",
    "\n",
    "![fig1](http://www.mit.edu/~huchette/.tmp/fig3.svg)\n",
    "\n",
    "The branch-and-bound scheme can end up solving many subproblems, so for it to work well, we need to _prune_ large portions of the tree. "
   ]
  },
  {
   "cell_type": "markdown",
   "metadata": {},
   "source": [
    "## Branch and bound\n",
    "We'll keep track of a global _lower bound_ $LB$ for our problem. Each node ``q`` will have an upper bound $UB_q$ that it inherents from its parent. If we get to the point where we have solved all subproblems (or, ideally, pruned off a great deal of them), we know that we're optimal. To do this we'll also keep track of a list $L$ of subproblems left to solve; initially, it's just the relaxation. The procedure is:\n",
    "\n",
    "While $L$ is not empty, pick a subproblem ``q`` out of our list $L$ and solve it. \n",
    "1. ``if`` ``q`` is infeasible, ``continue``\n",
    "2. ``if`` the solution is integer feasible, update the lower bound $LB$ if the cost is higher than what we had before\n",
    "3. ``if``  the relaxation value is less than our global $LB$ ``continue``\n",
    "4. ``else`` pick a non-integer variable $i$ and _branch_ by adding two subproblems to $L$: \n",
    "    * One with $x_i = 0$\n",
    "    * Another with $x_i = 1$\n",
    "\n",
    "Branch-and-bound is sometimes called an _implicit enumeration_ scheme because of step 3: we avoid solving any subproblems that we can prove won't produce the optimal solution.\n",
    "\n",
    "** The \"magic\" of modern MIP solvers largely comes down to pruning massive portions of the tree **\n",
    "\n",
    "\n",
    "## Stuff you should care about\n",
    "\n",
    "1. Cuts (improve the _upper bounds_)\n",
    "2. Heuristics (improve the _lower bounds_)\n",
    "3. Presolve (_simplify_ everything before we build the tree)\n",
    "4. Branching strategies (construct the tree in a smart way)"
   ]
  },
  {
   "cell_type": "markdown",
   "metadata": {},
   "source": [
    "## 1. Cuts\n",
    "\n",
    "Cuts are inequalities that are _valid_ (don't cut off any feasible integer points) and _strengthen_ the formulation (chop off some of the region feasible for the relaxation)\n",
    "\n",
    "Three main types of cuts:\n",
    "\n",
    "1. General purpose (e.g. CG, split, MIR)\n",
    "2. Structure-specific (e.g. knapsack cover, clique)\n",
    "3. Problem-specific (whatever _you_ cook up)\n",
    "\n",
    "### Example \n",
    "\n",
    "Let's go back to our knapsack example and imagine that had been a bit smarter and realized that $x + \\frac{4}{3}y \\leq 1$ is feasible for all integer feasible points. If we add this to our formulation, we have the optimal solution at the root node!"
   ]
  },
  {
   "cell_type": "markdown",
   "metadata": {},
   "source": [
    "![fig1](http://www.mit.edu/~huchette/.tmp/fig4.svg)"
   ]
  },
  {
   "cell_type": "markdown",
   "metadata": {},
   "source": [
    "## 2. Heuristics\n",
    "\n",
    "You can add integer feasible solutions into the branch-and-bound scheme to improve the lower bound. These can come from\n",
    "\n",
    "1. Problem-specific heuristics\n",
    "2. Neighborhood search\n",
    "3. Rounding or \"polishing\"\n",
    "\n",
    "### Example\n",
    "\n",
    "After we've already solved it twice, it's easy to see that the optimal solution for our knapsack is $(1,0)$. So, we can just start out the branch-and-bound procedure with $LB = 1$.\n",
    "\n",
    "More generally, if we're solving a knapsack problem, one simple heuristic is to add a _greedy solution_ where you iteratively add the best available item to the sack until you run out of room. This will often be a very good solution, and is a simple example of a problem-specific heuristic scheme."
   ]
  },
  {
   "cell_type": "markdown",
   "metadata": {},
   "source": [
    "![fig5](http://www.mit.edu/~huchette/.tmp/fig5.svg)"
   ]
  },
  {
   "cell_type": "markdown",
   "metadata": {},
   "source": [
    "## 3. Presolve\n",
    "\n",
    "Modern MIP solvers have a litany of techniques to simplify problems _before_ constructing the tree. \n",
    "\n",
    "* Variable/constraint bounds tightening\n",
    "* Logical inferences\n",
    "* General cleanup (remove redundant variables, constraints)\n",
    "\n",
    "By shrinking problems, presolve potentially shrinks\n",
    "\n",
    "* the B&B tree (fewer binary variables)\n",
    "* The node solve time (smaller LP relaxations)\n",
    "\n",
    "### Example\n",
    "\n",
    "For our problem\n",
    "\\begin{align*}\n",
    "    \\max\\:& x + y \\\\\n",
    "    \\text{s.t.}\\:& x + 2y \\leq 1.5 \\\\\n",
    "    & x, y \\in \\{0,1\\}\n",
    "\\end{align*}\n",
    "\n",
    "we can perform bounds tightening to get\n",
    "\n",
    "\\begin{align*}\n",
    "    \\max\\:& x + y \\\\\n",
    "    \\text{s.t.}\\:& x + 2y \\leq 1 \\\\\n",
    "    & x, y \\in \\{0,1\\}\n",
    "\\end{align*}"
   ]
  },
  {
   "cell_type": "markdown",
   "metadata": {},
   "source": [
    "![fig1](http://www.mit.edu/~huchette/.tmp/fig6.svg)"
   ]
  },
  {
   "cell_type": "markdown",
   "metadata": {},
   "source": [
    "Then, we can reason that, since $x,y \\in \\{0,1\\}$, we cannot have $y=1$, and so we can reduce our problem to \n",
    "\n",
    "\\begin{align*}\n",
    "    \\max\\:& x \\\\\n",
    "    & x \\in \\{0,1\\}\n",
    "\\end{align*}\n",
    "\n",
    "Which we can then solve in closed form."
   ]
  },
  {
   "cell_type": "markdown",
   "metadata": {},
   "source": [
    "## 4. Branching strategies\n",
    "\n",
    "Different paths through the B&B tree can see drastically different performance:\n",
    "\n",
    "* Missing a node that produces a good feasible solution will mean you add nodes to your list you otherwise would have pruned\n",
    "* Choosing nodes that would otherwise be pruned just slows you down\n",
    "\n",
    "How do we know _a priori_ what a good branching strategy is, though? \n",
    "\n",
    "We don't really, but you can make informed guesses. \n",
    "\n",
    "Consider another small problem:\n",
    "\\begin{align*}\n",
    "    \\max\\:& y \\\\\n",
    "    \\text{s.t.}\\:& -x + y \\leq \\frac{1}{3} \\\\\n",
    "    & x + y \\leq \\frac{4}{3} \\\\\n",
    "    & 0 \\leq x,y \\leq 1 \\\\\n",
    "    & x, y \\in \\{0,1\\}\n",
    "\\end{align*}\n",
    "If we solve the relaxation, we get an optimal solution of $(x^*,y^*) = (\\frac{1}{2},\\frac{5}{6})$."
   ]
  },
  {
   "cell_type": "markdown",
   "metadata": {},
   "source": [
    "![fig1](http://www.mit.edu/~huchette/.tmp/fig7.svg)"
   ]
  },
  {
   "cell_type": "markdown",
   "metadata": {},
   "source": [
    "Now we have a choice: both coordinates are fractional, so we can branch on either. If we branch on $y$, we get"
   ]
  },
  {
   "cell_type": "markdown",
   "metadata": {},
   "source": [
    "![fig1](http://www.mit.edu/~huchette/.tmp/fig8.svg)"
   ]
  },
  {
   "cell_type": "markdown",
   "metadata": {},
   "source": [
    "The branch with $y=0$ gives us an optimal solution in $(0,1)$, and the $y=1$ branch is infeasible, so we have no more branches to take and we are done. But if we had branched on $x$ instead,"
   ]
  },
  {
   "cell_type": "markdown",
   "metadata": {},
   "source": [
    "![fig1](http://www.mit.edu/~huchette/.tmp/fig9.svg)"
   ]
  },
  {
   "cell_type": "markdown",
   "metadata": {},
   "source": [
    "The optimal solution for both branches is still fractional, so we have to branch again. If we have, say, 1000 binary variables instead of just two, we see how branching strategies can have an enormous effect on performance."
   ]
  },
  {
   "cell_type": "markdown",
   "metadata": {},
   "source": [
    "# Implementation in JuMP\n",
    "\n",
    "Let's solve our simple knapsack problem and see what the solver spits out."
   ]
  },
  {
   "cell_type": "code",
   "execution_count": null,
   "metadata": {
    "collapsed": false
   },
   "outputs": [],
   "source": [
    "using JuMP, Gurobi\n",
    "m = Model(solver=GurobiSolver())\n",
    "\n",
    "@variable(m, x, Bin) # or Int\n",
    "@variable(m, y, Bin)\n",
    "\n",
    "@constraint(m, x + 2y ≤ 1.5)\n",
    "@objective(m, Max, x + y)\n",
    "\n",
    "solve(m)"
   ]
  },
  {
   "cell_type": "markdown",
   "metadata": {
    "collapsed": true
   },
   "source": [
    "This is kind of dull since Gurobi solves this before we ever get to the branch-and-bound tree! Let's cook up a problem that's a little more interesting. What about more items, and more knapsacks! If $N=100$, naïve enumeration would create $2^{100}$ nodes, which would take quite some time. How does the solver actually tackle it?"
   ]
  },
  {
   "cell_type": "code",
   "execution_count": null,
   "metadata": {
    "collapsed": false
   },
   "outputs": [],
   "source": [
    "srand(100)\n",
    "N = 100\n",
    "\n",
    "m = Model(solver=GurobiSolver())\n",
    "@variable(m, x[1:N], Bin)\n",
    "for _ in 1:10\n",
    "    @constraint(m, dot(rand(N), x) ≤ N / 50)\n",
    "end\n",
    "\n",
    "@objective(m, Max, dot(rand(N), x))\n",
    "\n",
    "solve(m)"
   ]
  },
  {
   "cell_type": "markdown",
   "metadata": {},
   "source": [
    "## Understanding solver output"
   ]
  },
  {
   "cell_type": "markdown",
   "metadata": {},
   "source": [
    "First, it solves the LP relaxation and reports back:\n",
    "```\n",
    "Root relaxation: objective 4.014179e+00, 18 iterations, 0.00 seconds\n",
    "```\n",
    "Now it explores the branch-and-bound tree, and updates us as it goes along. Let's look at just the first line:\n",
    "```\n",
    "    Nodes    |    Current Node    |     Objective Bounds      |     Work\n",
    " Expl Unexpl |  Obj  Depth IntInf | Incumbent    BestBd   Gap | It/Node Time\n",
    "\n",
    "     0     0    4.01418    0    7    2.35937    4.01418  70.1%     -    0s\n",
    "```\n",
    "We see that the information is broken down into four main columns:\n",
    "\n",
    "1. ``Nodes``: Global node information\n",
    "    * how many nodes have we looked at\n",
    "    * how many do we have in our queue\n",
    "2. ``Current Node``\n",
    "    * objective\n",
    "    * depth in the tree\n",
    "    * number of noninteger variables in the solution\n",
    "3. ``Objective Bounds``\n",
    "    * Best incumbent (lower bound)\n",
    "    * node upper bound\n",
    "    * the gap between the two\n",
    "4. ``Work``\n",
    "    * average simplex iterations per node\n",
    "    * total elapsed time\n",
    "\n",
    "Finally, we get a neat summary of the cutting planes Gurobi found useful:\n",
    "```\n",
    "Cutting planes:\n",
    "  Gomory: 3\n",
    "  Cover: 2\n",
    "  MIR: 5\n",
    "```\n",
    "All told, we explored 190  nodes, much less than the $2^{100}$ we were worried about. All this only took 698 simplex iterations and 0.21 seconds.\n",
    "\n",
    "Now what about those ``H``s that appear? That tells us that Gurobi ran a heuristic and found a new best solution. You can see for yourself, as the incumbent value increases while the bound remains the same:\n",
    "```\n",
    "    Nodes    |    Current Node    |     Objective Bounds      |     Work\n",
    " Expl Unexpl |  Obj  Depth IntInf | Incumbent    BestBd   Gap | It/Node Time\n",
    "\n",
    "     0     0    4.01418    0    7    2.35937    4.01418  70.1%     -    0s\n",
    "H    0     0                       3.3780464    4.01418  18.8%     -    0s\n",
    "```\n",
    "You'll also sometimes see a ``*`` instead of the ``H``, which says that the feasible solution came from branching instead of heuristics."
   ]
  },
  {
   "cell_type": "markdown",
   "metadata": {},
   "source": [
    "# Solver parameters: Should you bother?\n",
    "\n",
    "Gurobi (and other high-quality solvers) allow you to tweak a wide range of different parameters; _sometimes_ tuning these can drastically improve performance. It can be kind of intimidating, though: Gurobi has over 100 parameters, so which are the important ones?\n",
    "\n",
    "Some useful ones:\n",
    "\n",
    "* ``TimeLimit``: How long the solver will run before giving up.\n",
    "* ``NodeLimit``: How many nodes to explore before giving up.\n",
    "* ``MIPGap``: Termination criterion for relative gap $\\frac{UB-LB}{LB}$.\n",
    "* ``MIPFocus``: High-level controls on solver priority (proving optimality or increasing bound or finding optimal solution).\n",
    "* ``Heuristics``: Determines the amount of time spent in MIP heuristics.\n",
    "* ``Cuts``: Controls the aggressiveness of cut generation.\n",
    "* ``Presolve``: Controls the presolve level (conservative or aggressive).\n",
    "\n",
    "Is that it? Well, no, but you probably need domain knowledge about your problem to go much further. There's an alternative: Gurobi has a parameter tuning feature you can try to \"learn\" good parameter settings for a particular model. Try it out if you aren't quite happy with your performance."
   ]
  },
  {
   "cell_type": "markdown",
   "metadata": {},
   "source": [
    "## Sudoku\n",
    "\n",
    "![Sudoku](http://upload.wikimedia.org/wikipedia/commons/f/ff/Sudoku-by-L2G-20050714.svg)\n",
    "\n",
    "**Sudoku** is a number puzzle played on a 9x9 grid. The challenge is to place a digit between 1 and 9 inclusive in each empty cell, such that the completed grid obeys the following rules:\n",
    "\n",
    "* Each row contains the numbers 1 to 9 once and only once.\n",
    "* Each column contains the numbers 1 to 9 once and only once.\n",
    "* Each 3x3 subgrid contains the numbers 1 to 9 once and only once."
   ]
  },
  {
   "cell_type": "code",
   "execution_count": null,
   "metadata": {
    "collapsed": false
   },
   "outputs": [],
   "source": [
    "init_vals = [\n",
    "5 3 0 0 7 0 0 0 0\n",
    "6 0 0 1 9 5 0 0 0\n",
    "0 9 8 0 0 0 0 6 0\n",
    "8 0 0 0 6 0 0 0 3\n",
    "4 0 0 8 0 3 0 0 1\n",
    "7 0 0 0 2 0 0 0 6\n",
    "0 6 0 0 0 0 2 8 0\n",
    "0 0 0 4 1 9 0 0 5\n",
    "0 0 0 0 8 0 0 7 9\n",
    "]\n",
    "\n",
    "using PyPlot\n",
    "# Displays a sudoku matrix. If an initial state is provided, \n",
    "# then the new numbers are displayed in red. \n",
    "function display_sudoku(sudoku, initial_state=zeros(9,9))\n",
    "    fig, ax = subplots()\n",
    "    ax[:axis](\"off\")\n",
    "    # Make sudoku basic 9x9 grid.\n",
    "    for i in 0:9\n",
    "        plot([i,i], [0, 9], color = \"black\")\n",
    "        plot([0, 9], [i,i], color = \"black\")\n",
    "    end\n",
    "    # Make thicker lines to separate the 3x3 subgrids.\n",
    "    for i in 0:3:9\n",
    "        plot([i,i], [0,9], color = \"black\", linewidth = 3)\n",
    "        plot([0,9], [i,i], color = \"black\", linewidth = 3)\n",
    "    end\n",
    "    # Display the values at the right square.\n",
    "    for i in 0:8\n",
    "        for j in 0:8 \n",
    "            value = Int(sudoku[9-j,i+1])\n",
    "            old_value = initial_state[9-j,i+1]\n",
    "            # If an initial state is not provided (set to zero) or the value of the \n",
    "            # square did not change, the color is set to black. Otherwise, it becomes red.\n",
    "            col = (sum(initial_state) == 0 || old_value == value) ? \"black\" : \"red\"\n",
    "            if value > 0 # Omit zero values  \n",
    "                text(i + 0.35, j + 0.33, value, size = 16, color = col)\n",
    "            end\n",
    "        end\n",
    "    end\n",
    "end\n",
    "display_sudoku(init_vals)"
   ]
  },
  {
   "cell_type": "markdown",
   "metadata": {},
   "source": [
    "The most natural formulation of this problem would probably be something like\n",
    "\n",
    "$$x_{i,j} \\in \\{1, 2, \\dots, 9\\}$$\n",
    "\n",
    "which is of course something we can do with integer programming:\n",
    "\n",
    "$$1 \\leq x_{i,j} \\leq 9, ~ integer$$\n",
    "\n",
    "The challenge now is the constraints. One observation is that the numbers 1 to 9 add up to 45, so we could try something like:\n",
    "\n",
    "$$ \\sum_{j=1}^9 x_{i,j} = 45 $$"
   ]
  },
  {
   "cell_type": "code",
   "execution_count": null,
   "metadata": {
    "collapsed": false
   },
   "outputs": [],
   "source": [
    "using JuMP, Gurobi\n",
    "function sudoku1()\n",
    "    sudoku = Model(solver=GurobiSolver(OutputFlag=0))\n",
    "    @variable(sudoku, 1 ≤ x[1:9,1:9] ≤ 9, Int)\n",
    "    \n",
    "    @constraints(sudoku, begin\n",
    "        rows[i=1:9], sum(x[i,:]) == 45\n",
    "        cols[j=1:9], sum(x[:,j]) == 45\n",
    "        subgrid[i=1:3:7,j=1:3:7], sum(x[i:i+2,j:j+2]) == 45\n",
    "    end)\n",
    "    \n",
    "    for i in 1:9, j in 1:9\n",
    "        if init_vals[i,j] != 0\n",
    "            @constraint(sudoku, x[i,j] == init_vals[i,j])\n",
    "        end\n",
    "    end\n",
    "    \n",
    "    solve(sudoku)\n",
    "    \n",
    "    getvalue(x)\n",
    "end\n",
    "@time soln1 = sudoku1();"
   ]
  },
  {
   "cell_type": "code",
   "execution_count": null,
   "metadata": {
    "collapsed": false
   },
   "outputs": [],
   "source": [
    "display_sudoku(soln1, init_vals)"
   ]
  },
  {
   "cell_type": "markdown",
   "metadata": {},
   "source": [
    "Well that didn't work. We might be able to make this work, but we'd need many more constraints. Instead, let's change our **variables**: $x_{i,j,k} = 1$ iff the number $k$ will appear in cell $(i,j)$. We can now use our 0-1 integer programming knowledge to model the problem. Consider the \"row\" constraints: we want each number to appear once and only once. This is equivalent to saying that\n",
    "\n",
    "$$\\sum_{j=1}^9 x_{i,j,k} = 1 \\quad \\forall i, k$$\n",
    "\n",
    "We can now model this as a $9\\times 9\\times 9$ dimensional problem - thats a lot of binary variables, surely Gurobi won't like that!"
   ]
  },
  {
   "cell_type": "code",
   "execution_count": null,
   "metadata": {
    "collapsed": false,
    "scrolled": true
   },
   "outputs": [],
   "source": [
    "function sudoku2()\n",
    "    sudoku = Model(solver=GurobiSolver())\n",
    "\n",
    "    @variable(sudoku, x[i=1:9, j=1:9, k=1:9], Bin)\n",
    "\n",
    "    @constraints(sudoku, begin\n",
    "        # Constraint 1 - Exactly one value appears in each cell.\n",
    "        cell[i=1:9, j=1:9], sum(x[i,j,:]) == 1\n",
    "        # Constraint 2 - Each value appears in each row exactly once.\n",
    "        row[i=1:9, k=1:9], sum(x[i,:,k]) == 1\n",
    "        # Constraint 3 - Each value appears in each column exactly once.\n",
    "        col[j=1:9, k=1:9], sum(x[:,j,k]) == 1\n",
    "        # Constraint 4 - Each value appears in each 3x3 subgrid exactly once.\n",
    "        subgrid[i=1:3:7,j=1:3:7,val=1:9], sum(x[i:i+2,j:j+2,val]) == 1\n",
    "    end)\n",
    "\n",
    "    # Fix given values. \n",
    "    for row in 1:9, col in 1:9\n",
    "        if init_vals[row,col] != 0\n",
    "            @constraint(sudoku, x[row, col, init_vals[row, col]] == 1)\n",
    "        end\n",
    "    end\n",
    "    \n",
    "    solve(sudoku)\n",
    "    \n",
    "    getvalue(x)\n",
    "end\n",
    "@time soln2 = sudoku2();"
   ]
  },
  {
   "cell_type": "code",
   "execution_count": null,
   "metadata": {
    "collapsed": false
   },
   "outputs": [],
   "source": [
    "# soln2 is a 9x9x9 array with values 0 or 1. \n",
    "# First we need to transform it to a 9x9 matrix with the right values 1,...,9.\n",
    "soln2_array = sum(i * soln2[:,:,i] for i in 1:9)\n",
    "display_sudoku(soln2_array, init_vals)"
   ]
  },
  {
   "cell_type": "markdown",
   "metadata": {
    "collapsed": false
   },
   "source": [
    "## Presolving the Problem\n",
    "Can you see the lines\n",
    "```\n",
    "Optimize a model with 358 rows, 729 columns and 2950 nonzeros\n",
    "Presolve removed 358 rows and 729 columns\n",
    "```\n",
    "? Gurobi was able to use logic to deduce the value of every variable - no linear relaxation required! This \"magic\" is actually how a human might solve it. Consider the following:\n",
    "\n",
    "We know that $x_{2,6,5}$ is fixed at 1 because it is one of the provided values. So we can actually replace $x_{2,6,5}$ wherever it appears in the constraints with the constant 1:\n",
    "\n",
    "\"The value 5 must appear in row 2\":\n",
    "$$x_{2,1,5} + x_{2,2,5} + x_{2,3,5} + x_{2,4,5} + x_{2,5,5} + x_{2,6,5} + x_{2,7,5} + x_{2,8,5} + x_{2,9,5} = 1$$\n",
    "$$\\rightarrow x_{2,1,5} + x_{2,2,5} + x_{2,3,5} + x_{2,4,5} + x_{2,5,5} + 1 + x_{2,7,5} + x_{2,8,5} + x_{2,9,5} = 1$$\n",
    "$$\\rightarrow x_{2,1,5} + x_{2,2,5} + x_{2,3,5} + x_{2,4,5} + x_{2,5,5} + x_{2,7,5} + x_{2,8,5} + x_{2,9,5} = 0$$\n",
    "\n",
    "\"The value 5 must appear in column 6\":\n",
    "$$x_{1,6,5} + x_{2,6,5} + x_{3,6,5} + x_{4,6,5} + x_{5,6,5} + x_{6,6,5} + x_{7,6,5} + x_{8,6,5} + x_{9,6,5} = 1$$\n",
    "$$x_{1,6,5} + 1 + x_{3,6,5} + x_{4,6,5} + x_{5,6,5} + x_{6,6,5} + x_{7,6,5} + x_{8,6,5} + x_{9,6,5} = 1$$\n",
    "$$x_{1,6,5} + x_{3,6,5} + x_{4,6,5} + x_{5,6,5} + x_{6,6,5} + x_{7,6,5} + x_{8,6,5} + x_{9,6,5} = 0$$\n",
    "\n",
    "and so on. Because all those other variables can only be 0 or 1, and their sum is 0, they must all be 0. Thus Gurobi presolve can perform the following procedure:\n",
    "1. Replace all the fixed values with constants\n",
    "2. Use constraints to fix variables, e.g. at 0 (or 1)\n",
    "3. Go to 1 unless step 2 did nothing.\n",
    "\n",
    "A small problem arises when there are multiple solutions to the problem - a random selection has to be made. Gurobi will treat this case as \"trying to find a feasible solution\" - it will fix a variable, and follow the implications through.\n",
    "\n",
    "Gurobi can do similar presolving implications for continuous decisions too, e.g.\n",
    "$$x \\in \\{ 0, 1 \\}$$\n",
    "$$x \\leq \\frac{1}{2}$$\n",
    "\n",
    "will presolve to $x = 0$: Gurobi knows that all the variables are integer, so we can safe round down the right-hand-side to the closest integer."
   ]
  },
  {
   "cell_type": "markdown",
   "metadata": {
    "collapsed": false
   },
   "source": [
    ">**\\[Exercise\\]**: Pre-solve\n",
    "\n",
    "> What if the right-hand-side is more complicated? What can you do to \"tighten\" the following constraint and the variables in it?\n",
    "\n",
    "> $$ 6x_1 + 10x_2 + 12x_3 + 19x_4 \\leq 15$$\n",
    "\n",
    "> Hints:\n",
    "> * Can you find common factors in the coefficients?\n",
    "> * Can you round anything?\n",
    "> * Can you prove things about the variable values?\n",
    "\n",
    "> (all variables are binary)"
   ]
  },
  {
   "cell_type": "markdown",
   "metadata": {
    "collapsed": false
   },
   "source": [
    ">**\\[Solution\\]**: Pre-solve\n",
    "\n",
    "> * $6x_1 + 10x_2 + 12x_3 + 19x_4 \\leq 15$\n",
    "> * $x_4$ must be 0, because if $x_4$ was 1 then the constaint would be violated\n",
    "> * $6x_1 + 10x_2 + 12x_3 \\leq 15$\n",
    "> * All coefficients on left are multiples of 2, so divide through by 2\n",
    "> * $3x_1 + 5x_2 + 6x_3 \\leq 7.5$\n",
    "> * All coefficients are integer, all variables are binary, so can round down the RHS.\n",
    "> * $3x_1 + 5x_2 + 6x_3 \\leq 7$\n",
    "> * We note though that only one of these variables can be one at a time, or the constraint would be violated, so the best we can do is actually\n",
    "> * $x_1 + x_2 + x_3 \\leq 1$"
   ]
  },
  {
   "cell_type": "markdown",
   "metadata": {
    "collapsed": false
   },
   "source": [
    "## Big $M$s and logical implications\n",
    "\n",
    "We often need to model the following type of constraint:\n",
    "\n",
    "> The constraint $a^Tx \\leq b$ holds if and only if $z=1$\n",
    "\n",
    "An example of this appears in network problems:\n",
    "\n",
    "> We have a network with a 'source' and a 'sink', and want to maximize flow between them across the network. We have a set of arcs we can build, at a cost, so our objective is to maximize profit from the flow less the cost of building these arcs.\n",
    "\n",
    "If we say that $x_{i,j}$ is the flow from $i$ to $j$, and $z_{i,j}$ is a binary decision for whether we build the arc or not, we will have the constraint\n",
    "\n",
    "$$ x_{i,j} > 0 \\Longrightarrow z_{i,j}=1 $$\n",
    "\n",
    "One way to express this as a linear equality is to write\n",
    "\n",
    "$$ 0 \\leq x_{i,j} \\leq M z_{i,j} $$\n",
    "\n",
    "where $M$ is a **sufficiently large constant**. That means that $M$ is greater than the largest value $x_{i,j}$ would take in an optimal solution.\n",
    "\n",
    "In some problems, picking a value for $M$ is easy - for example, if arcs have a maximum capacity $C$, set $M \\leftarrow C$. In other cases, it is not clear *a priori* what the largest value $x_{i,j}$ can take is. It may be tempting to just choose a large value, like $M\\leftarrow 10^{10}$, just to be safe. However this can make your MILP much harder to solve, as we will now demonstrate."
   ]
  },
  {
   "cell_type": "markdown",
   "metadata": {
    "collapsed": false
   },
   "source": [
    "### Bad Big Ms\n",
    "\n",
    "Consider the following toy problem:\n",
    "\n",
    "$$\n",
    "\\begin{align*}\n",
    "\\max\\quad& x_1 + x_2 + x_3 \\\\\n",
    "\\text{s.t.}\\quad& Ax \\leq b \\\\\n",
    "& 0 \\leq x_i \\leq M_i z_i \\\\\n",
    "& \\sum_{i=1}^3 z_i \\leq 1 \\\\\n",
    "& (x,z) \\in \\mathbb{R}^3 \\times \\{0,1\\}^3\n",
    "\\end{align*}\n",
    "$$\n",
    "\n",
    "or, in words, pick the single largest $x_i$, subject to the linear constraints $Ax\\leq b$. These linear constraints will imply some bounds on $x_i$, although it may be hard to find them. If we did know them, we could set $M_i$ to those bounds. Since we don't, we'll need to pick a \"sufficiently large\" $M$ from our understanding of the problem. Lets see what the solution of the linear relaxation of this problem looks like as we vary $M$."
   ]
  },
  {
   "cell_type": "code",
   "execution_count": null,
   "metadata": {
    "collapsed": false
   },
   "outputs": [],
   "source": [
    "using Gadfly, Interact, Compose\n",
    "function example1(M)\n",
    "    mod = Model(solver=GurobiSolver(OutputFlag=0))\n",
    "    @variable(mod, x[1:3] ≥ 0)\n",
    "    @variable(mod, z[1:3], Bin)\n",
    "    @objective(mod, Max, sum(x))\n",
    "    \n",
    "    # We will make our Ax≤b a very simple set!\n",
    "    @constraint(mod, x[1] ≤ 4)\n",
    "    @constraint(mod, x[2] ≤ 8)\n",
    "    @constraint(mod, x[3] ≤ 9)\n",
    "    \n",
    "    @constraint(mod, bigm[i=1:3], x[i] ≤ M*z[i])\n",
    "    @constraint(mod, sum(z) ≤ 1)\n",
    "    \n",
    "    solve(mod, relaxation=true)\n",
    "    relax = getobjectivevalue(mod)\n",
    "    \n",
    "    solve(mod)\n",
    "    opt = getobjectivevalue(mod)\n",
    "    \n",
    "    # MILP objective is 9, compare with LP objective\n",
    "    gap = (relax-opt) / opt\n",
    "\n",
    "    return 100gap, getvalue(x)[:], getvalue(z)[:]\n",
    "end\n",
    "\n",
    "Mrange = 0:3:30\n",
    "Gadfly.plot(\n",
    "    x=Mrange,y=[example1(M)[1] for M in Mrange],\n",
    "    Geom.line,Geom.point,\n",
    "    xintercept=[9], Geom.vline(color=\"orange\"),\n",
    "    yintercept=[0], Geom.hline(color=\"black\"),\n",
    "    Guide.xlabel(\"M\"),\n",
    "    Guide.ylabel(\"Gap (%)\"),\n",
    ")"
   ]
  }
 ],
 "metadata": {
  "anaconda-cloud": {},
  "kernelspec": {
   "display_name": "Julia 0.6.2",
   "language": "julia",
   "name": "julia-0.6"
  },
  "language_info": {
   "file_extension": ".jl",
   "mimetype": "application/julia",
   "name": "julia",
   "version": "0.6.2"
  }
 },
 "nbformat": 4,
 "nbformat_minor": 1
}
