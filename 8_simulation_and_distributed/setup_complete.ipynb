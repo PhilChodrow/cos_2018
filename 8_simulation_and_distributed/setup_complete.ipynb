{
 "cells": [
  {
   "cell_type": "code",
   "execution_count": null,
   "metadata": {
    "collapsed": false
   },
   "outputs": [],
   "source": [
    "# Pkg.add(\"ScikitLearn\")\n",
    "using ScikitLearn"
   ]
  },
  {
   "cell_type": "code",
   "execution_count": null,
   "metadata": {
    "collapsed": false
   },
   "outputs": [],
   "source": [
    "# Pkg.add(\"DecisionTree\")\n",
    "using DecisionTree"
   ]
  },
  {
   "cell_type": "code",
   "execution_count": null,
   "metadata": {
    "collapsed": false
   },
   "outputs": [],
   "source": [
    "# read in data from file\n",
    "tmp = readdlm(\"listings_clean.csv\", ',',header=true)\n",
    "listings = tmp[1]\n",
    "colnames = tmp[2]\n",
    "size(listings)"
   ]
  },
  {
   "cell_type": "code",
   "execution_count": null,
   "metadata": {
    "collapsed": false
   },
   "outputs": [],
   "source": [
    "print(colnames)"
   ]
  },
  {
   "cell_type": "code",
   "execution_count": null,
   "metadata": {
    "collapsed": false
   },
   "outputs": [],
   "source": [
    "# training/test split\n",
    "N_train = 2000\n",
    "training_mask  = zeros(Bool,size(listings)[1])\n",
    "srand(4)\n",
    "training_indices = randperm(size(listings)[1])[1:N_train]\n",
    "training_mask[training_indices] = true\n",
    "testing_mask = .!training_mask;"
   ]
  },
  {
   "cell_type": "code",
   "execution_count": null,
   "metadata": {
    "collapsed": true
   },
   "outputs": [],
   "source": [
    "# save training data to csv\n",
    "writedlm(\"listings_clean_train.csv\",listings[training_mask,:],',')"
   ]
  },
  {
   "cell_type": "code",
   "execution_count": null,
   "metadata": {
    "collapsed": true
   },
   "outputs": [],
   "source": [
    "# save testing data to csv\n",
    "writedlm(\"listings_clean_test.csv\",listings[testing_mask,:],',')"
   ]
  },
  {
   "cell_type": "code",
   "execution_count": null,
   "metadata": {
    "collapsed": false
   },
   "outputs": [],
   "source": [
    "# using lasso regression, we achieved an out of sample R^2 of 0.53\n",
    "# let's try with random forest\n",
    "n_features = size(listings)[2] - 1\n",
    "model = RandomForestRegressor(nsubfeatures=round(Int,n_features/3),ntrees=500,maxlabels=1)\n",
    "fit!(model, listings[training_mask,2:end],listings[training_mask,1])"
   ]
  },
  {
   "cell_type": "code",
   "execution_count": null,
   "metadata": {
    "collapsed": false
   },
   "outputs": [],
   "source": [
    "# out of sample performance\n",
    "y_test = listings[testing_mask,1]\n",
    "y_pred = predict(model,listings[testing_mask,2:end])\n",
    "1 - sum((y_test - y_pred).^2) / sum((y_test - mean(y_test)) .^ 2)"
   ]
  },
  {
   "cell_type": "code",
   "execution_count": null,
   "metadata": {
    "collapsed": false
   },
   "outputs": [],
   "source": [
    "# let's try with just a single decision tree\n",
    "model = DecisionTreeRegressor(pruning_purity_threshold = 0.8,maxlabels = 100)\n",
    "fit!(model, listings[training_mask,2:end],listings[training_mask,1])"
   ]
  },
  {
   "cell_type": "code",
   "execution_count": null,
   "metadata": {
    "collapsed": false
   },
   "outputs": [],
   "source": [
    "y_pred = predict(model,listings[testing_mask,2:end])\n",
    "1 - sum((y_test - y_pred).^2) / sum((y_test - mean(y_test)).^2)"
   ]
  },
  {
   "cell_type": "code",
   "execution_count": null,
   "metadata": {
    "collapsed": true
   },
   "outputs": [],
   "source": [
    "# serialize model (i.e. save to disk in a binary format)\n",
    "using JLD\n",
    "JLD.save(\"model.jld\",\"model\",model)"
   ]
  },
  {
   "cell_type": "code",
   "execution_count": null,
   "metadata": {
    "collapsed": false
   },
   "outputs": [],
   "source": [
    "model = JLD.load(\"model.jld\",\"model\")"
   ]
  }
 ],
 "metadata": {
  "kernelspec": {
   "display_name": "Julia 0.6.1",
   "language": "julia",
   "name": "julia-0.6"
  },
  "language_info": {
   "file_extension": ".jl",
   "mimetype": "application/julia",
   "name": "julia",
   "version": "0.6.1"
  }
 },
 "nbformat": 4,
 "nbformat_minor": 0
}
